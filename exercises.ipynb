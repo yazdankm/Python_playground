{
 "cells": [
  {
   "cell_type": "code",
   "execution_count": 1,
   "metadata": {},
   "outputs": [
    {
     "name": "stdout",
     "output_type": "stream",
     "text": [
      "Yazdan\n"
     ]
    }
   ],
   "source": [
    "\n",
    "# Exercise 1\n",
    "\n",
    "my_name = \"Yazdan\"\n",
    "print(my_name)\n"
   ]
  },
  {
   "cell_type": "code",
   "execution_count": 2,
   "metadata": {},
   "outputs": [
    {
     "name": "stdout",
     "output_type": "stream",
     "text": [
      "38\n"
     ]
    }
   ],
   "source": [
    "# Exercise 2\n",
    "\n",
    "age = 38\n",
    "print(age)\n"
   ]
  },
  {
   "cell_type": "code",
   "execution_count": 3,
   "metadata": {},
   "outputs": [
    {
     "name": "stdout",
     "output_type": "stream",
     "text": [
      "6\n"
     ]
    }
   ],
   "source": [
    "# Exercise 3\n",
    "\n",
    "julia_age = 32\n",
    "age_diff = age - julia_age\n",
    "print(age_diff)\n"
   ]
  },
  {
   "cell_type": "code",
   "execution_count": 7,
   "metadata": {},
   "outputs": [
    {
     "name": "stdout",
     "output_type": "stream",
     "text": [
      "You are older than 21\n"
     ]
    }
   ],
   "source": [
    "# Exercise 4\n",
    "\n",
    "if my_age > 21:\n",
    "    print(\"You are older than 21\")\n",
    "else:\n",
    "    print(\"You are not older than 21\")\n"
   ]
  },
  {
   "cell_type": "code",
   "execution_count": 12,
   "metadata": {},
   "outputs": [
    {
     "name": "stdout",
     "output_type": "stream",
     "text": [
      "Julia is younger than you\n"
     ]
    }
   ],
   "source": [
    "# Exercise 5\n",
    "\n",
    "if my_age > julia_age:\n",
    "    print(\"Julia is younger than you\")\n",
    "elif my_age < julia_age:\n",
    "    print(\"Julia is older than you\")\n",
    "else:\n",
    "    print(\"You have the same age as Julia\")\n"
   ]
  },
  {
   "cell_type": "code",
   "execution_count": 114,
   "metadata": {},
   "outputs": [
    {
     "name": "stdout",
     "output_type": "stream",
     "text": [
      "Arjun\n",
      "Yazdan \n",
      "\n",
      "Arjun\n",
      "Chris\n",
      "Killian\n",
      "Milan\n",
      "Muayad\n",
      "Okan\n",
      "Rob\n",
      "Susan\n",
      "Yazdan\n"
     ]
    }
   ],
   "source": [
    "# Exercise 6\n",
    "\n",
    "names = [\"Arjun\", \"Chris\", \"Killian\", \"Milan\",\n",
    "         \"Muayad\", \"Okan\", \"Rob\", \"Susan\", \"Yazdan\"]\n",
    "print(names[0])\n",
    "print(names[-1],'\\n')\n",
    "for n in names:\n",
    "    print(n)\n"
   ]
  },
  {
   "cell_type": "code",
   "execution_count": 26,
   "metadata": {},
   "outputs": [
    {
     "name": "stdout",
     "output_type": "stream",
     "text": [
      "30\n",
      "35\n",
      "40\n",
      "26\n",
      "36\n",
      "32\n",
      "39\n",
      "22\n",
      "38\n",
      "30\n",
      "40\n",
      "26\n",
      "36\n",
      "32\n",
      "22\n",
      "38\n"
     ]
    }
   ],
   "source": [
    "# Exercise 7\n",
    "\n",
    "ages = [30, 35, 40, 26, 36, 32, 39, 22, 38]\n",
    "for a in ages:\n",
    "    print(a)\n",
    "for b in ages:\n",
    "    if b % 2 == 0:\n",
    "        print(b)\n"
   ]
  },
  {
   "cell_type": "code",
   "execution_count": 33,
   "metadata": {},
   "outputs": [
    {
     "name": "stdout",
     "output_type": "stream",
     "text": [
      "The smallest element is 22\n"
     ]
    }
   ],
   "source": [
    "# Exercise 8\n",
    "\n",
    "num = [30, 35, 40, 26, 36, 32, 39, 22, 38]\n",
    "min = num[0]\n",
    "for c in range(len(num)):\n",
    "    if num[c] < min:\n",
    "        min = num[c]\n",
    "print(\"The lowest number is\", min)\n"
   ]
  },
  {
   "cell_type": "code",
   "execution_count": 115,
   "metadata": {},
   "outputs": [
    {
     "name": "stdout",
     "output_type": "stream",
     "text": [
      "The highest number is 40\n"
     ]
    }
   ],
   "source": [
    "# Exercise 9\n",
    "\n",
    "num = [30, 35, 40, 26, 36, 32, 39, 22, 38]\n",
    "max = num[0]\n",
    "for c in range(len(num)):\n",
    "    if num[c] > max:\n",
    "        max = num[c]\n",
    "print(\"The highest number is\", max)\n"
   ]
  },
  {
   "cell_type": "code",
   "execution_count": 39,
   "metadata": {},
   "outputs": [
    {
     "name": "stdout",
     "output_type": "stream",
     "text": [
      "The smallest element is 40\n"
     ]
    }
   ],
   "source": [
    "# This is an alternative way to do exercise 9\n",
    "num = [30, 35, 40, 26, 36, 32, 39, 22, 38]\n",
    "max = num[0]\n",
    "for c in num:\n",
    "    if c > max:\n",
    "        max = c\n",
    "print(\"The highest number is\", max)\n"
   ]
  },
  {
   "cell_type": "code",
   "execution_count": 42,
   "metadata": {},
   "outputs": [
    {
     "name": "stdout",
     "output_type": "stream",
     "text": [
      "24\n",
      "28\n",
      "18\n",
      "13\n",
      "16\n",
      "17\n",
      "29\n",
      "27\n",
      "44\n",
      "15\n"
     ]
    }
   ],
   "source": [
    "# Exercise 10\n",
    "\n",
    "year_of_birth = [1999, 1995, 2005, 2010, 2007, 2006, 1994, 1996, 1979, 2008]\n",
    "for y in year_of_birth:\n",
    "    print(2023 - y)\n"
   ]
  },
  {
   "cell_type": "code",
   "execution_count": 116,
   "metadata": {},
   "outputs": [
    {
     "name": "stdout",
     "output_type": "stream",
     "text": [
      "Bob is 24 years old.\n",
      "Jack is 28 years old.\n",
      "Lisa is 18 years old.\n",
      "Maria is 13 years old.\n",
      "Ben is 16 years old.\n",
      "Emma is 17 years old.\n",
      "Oscar is 29 years old.\n",
      "Amy is 27 years old.\n",
      "Paul is 44 years old.\n",
      "Etta is 15 years old.\n"
     ]
    }
   ],
   "source": [
    "# Exercise 11\n",
    "\n",
    "customer_list = [\n",
    "    {\"name\": \"Bob\", \"age\": 1999},\n",
    "    {\"name\": \"Jack\", \"age\": 1995},\n",
    "    {\"name\": \"Lisa\", \"age\": 2005},\n",
    "    {\"name\": \"Maria\", \"age\": 2010},\n",
    "    {\"name\": \"Ben\", \"age\": 2007},\n",
    "    {\"name\": \"Emma\", \"age\": 2006},\n",
    "    {\"name\": \"Oscar\", \"age\": 1994},\n",
    "    {\"name\": \"Amy\", \"age\": 1996},\n",
    "    {\"name\": \"Paul\", \"age\": 1979},\n",
    "    {\"name\": \"Etta\", \"age\": 2008}\n",
    "]\n",
    "for customer in customer_list:\n",
    "    customer_name = customer[\"name\"]\n",
    "    customer_age = 2023 - customer[\"age\"]\n",
    "    print(f\"{customer_name} is {customer_age} years old.\")\n"
   ]
  },
  {
   "cell_type": "code",
   "execution_count": 72,
   "metadata": {},
   "outputs": [
    {
     "name": "stdout",
     "output_type": "stream",
     "text": [
      "[20, 24, 14, 12, 13, 25, 23, 11]\n"
     ]
    }
   ],
   "source": [
    "# Exercise 12\n",
    "\n",
    "ages = [20, 24, 14, 9, 12, 13, 25, 23, 40, 11]\n",
    "\n",
    "youngest_age = ages[0]\n",
    "oldest_age = ages[0]\n",
    "for age in ages:\n",
    "    if age < youngest_age:\n",
    "        youngest_age = age\n",
    "    if age > oldest_age:\n",
    "        oldest_age = age\n",
    "\n",
    "ages.remove(youngest_age)\n",
    "ages.remove(oldest_age)\n",
    "\n",
    "print(ages)\n",
    "\n",
    "\n",
    "\n",
    "# Or another way to do it\n",
    "\n",
    "ages = [20, 24, 14, 9, 12, 13, 25, 23, 40, 11]\n",
    "\n",
    "remove(min(ages))\n",
    "#ages.remove(max(ages))\n",
    "\n",
    "\n",
    "#ages.sort()\n",
    "\n",
    "#ages.pop(0)\n",
    "\n",
    "print(ages)\n",
    "\n"
   ]
  },
  {
   "cell_type": "code",
   "execution_count": 73,
   "metadata": {},
   "outputs": [
    {
     "name": "stdout",
     "output_type": "stream",
     "text": [
      "[15, 13, 16, 18, 19, 10]\n"
     ]
    }
   ],
   "source": [
    "# Exercise 13\n",
    "\n",
    "berlin = [15, 13, 16, 18, 19, 10, 12]\n",
    "munich = [7, 13, 15, 20, 19, 18, 10, 16]\n",
    "\n",
    "common_ages = [age for age in berlin if age in munich]\n",
    "\n",
    "print(common_ages)\n"
   ]
  },
  {
   "cell_type": "code",
   "execution_count": 74,
   "metadata": {},
   "outputs": [
    {
     "name": "stdout",
     "output_type": "stream",
     "text": [
      "[15, 13, 16, 18, 19, 10]\n"
     ]
    }
   ],
   "source": [
    "# Exercise 14\n",
    "\n",
    "ages = [15, 13, 16, 18, 19, 15, 10]\n",
    "\n",
    "unique_ages = []\n",
    "for age in ages:\n",
    "    if age not in unique_ages:\n",
    "        unique_ages.append(age)\n",
    "\n",
    "print(unique_ages)\n"
   ]
  },
  {
   "cell_type": "code",
   "execution_count": 75,
   "metadata": {},
   "outputs": [
    {
     "name": "stdout",
     "output_type": "stream",
     "text": [
      "Welcome Evelyn, have a nice day!\n",
      "Welcome Jost, have a nice day!\n"
     ]
    }
   ],
   "source": [
    "# Exercise 15\n",
    "\n",
    "def welcome(name):\n",
    "    print(f\"Welcome {name}, have a nice day!\")\n",
    "\n",
    "\n",
    "welcome('Evelyn')\n",
    "welcome('Jost')\n"
   ]
  },
  {
   "cell_type": "code",
   "execution_count": 77,
   "metadata": {},
   "outputs": [
    {
     "name": "stdout",
     "output_type": "stream",
     "text": [
      "5\n",
      "2\n"
     ]
    }
   ],
   "source": [
    "# Exercise 16\n",
    "\n",
    "def get_length(input_string):\n",
    "    length = len(input_string)\n",
    "    print(length)\n",
    "\n",
    "\n",
    "get_length('Hello')\n",
    "get_length('Hi')\n"
   ]
  },
  {
   "cell_type": "code",
   "execution_count": 80,
   "metadata": {},
   "outputs": [
    {
     "name": "stdout",
     "output_type": "stream",
     "text": [
      "Yes\n",
      "No\n"
     ]
    }
   ],
   "source": [
    "# Exercise 17\n",
    "\n",
    "def check_even(number):\n",
    "    if number % 2 == 0:\n",
    "        print('Yes')\n",
    "    else:\n",
    "        print('No')\n",
    "\n",
    "\n",
    "check_even(6)\n",
    "check_even(5)\n"
   ]
  },
  {
   "cell_type": "code",
   "execution_count": 82,
   "metadata": {},
   "outputs": [
    {
     "name": "stdout",
     "output_type": "stream",
     "text": [
      "Bob is 1999 years old.\n",
      "Jack is 1995 years old.\n",
      "Lisa is 2005 years old.\n",
      "Maria is 2010 years old.\n",
      "Ben is 2007 years old.\n",
      "Emma is 2006 years old.\n",
      "Oscar is 1994 years old.\n",
      "Amy is 1996 years old.\n",
      "Paul is 1979 years old.\n",
      "Etta is 2008 years old.\n"
     ]
    }
   ],
   "source": [
    "# Exercise 18\n",
    "\n",
    "# No 11 with function\n",
    "\n",
    "def print_customer_details(customer_list):\n",
    "    for customer in customer_list:\n",
    "        customer_name = customer[\"name\"]\n",
    "        customer_age = customer[\"age\"]\n",
    "\n",
    "        # Print the name and age of each customer\n",
    "        print(f\"{customer_name} is {customer_age} years old.\")\n",
    "\n",
    "\n",
    "# Example\n",
    "customer_list = [\n",
    "    {\"name\": \"Bob\", \"age\": 1999},\n",
    "    {\"name\": \"Jack\", \"age\": 1995},\n",
    "    {\"name\": \"Lisa\", \"age\": 2005},\n",
    "    {\"name\": \"Maria\", \"age\": 2010},\n",
    "    {\"name\": \"Ben\", \"age\": 2007},\n",
    "    {\"name\": \"Emma\", \"age\": 2006},\n",
    "    {\"name\": \"Oscar\", \"age\": 1994},\n",
    "    {\"name\": \"Amy\", \"age\": 1996},\n",
    "    {\"name\": \"Paul\", \"age\": 1979},\n",
    "    {\"name\": \"Etta\", \"age\": 2008}\n",
    "]\n",
    "\n",
    "print_customer_details(customer_list)\n"
   ]
  },
  {
   "cell_type": "code",
   "execution_count": 85,
   "metadata": {},
   "outputs": [
    {
     "name": "stdout",
     "output_type": "stream",
     "text": [
      "[20, 24, 14, 12, 13, 25, 23, 11]\n"
     ]
    }
   ],
   "source": [
    "# Exercise 18\n",
    "\n",
    "# No 12 with function\n",
    "\n",
    "def remove_youngest_and_oldest(ages):\n",
    "    youngest_age = ages[0]\n",
    "    oldest_age = ages[0]\n",
    "\n",
    "    for age in ages:\n",
    "        if age < youngest_age:\n",
    "            youngest_age = age\n",
    "        if age > oldest_age:\n",
    "            oldest_age = age\n",
    "\n",
    "    ages.remove(youngest_age)\n",
    "    ages.remove(oldest_age)\n",
    "\n",
    "\n",
    "ages = [20, 24, 14, 9, 12, 13, 25, 23, 40, 11]\n",
    "remove_youngest_and_oldest(ages)\n",
    "\n",
    "print(ages)\n"
   ]
  },
  {
   "cell_type": "code",
   "execution_count": null,
   "metadata": {},
   "outputs": [],
   "source": [
    "# Exercise 18\n",
    "\n",
    "# No 13 with function\n",
    "\n",
    "def find_common_ages(list1, list2):\n",
    "    common_ages = list(set(list1) & set(list2))\n",
    "    return common_ages\n",
    "\n",
    "\n",
    "berlin = [15, 13, 16, 18, 19, 10, 12]\n",
    "munich = [7, 13, 15, 20, 19, 18, 10, 16]\n",
    "\n",
    "common_ages = find_common_ages(berlin, munich)\n",
    "print(common_ages)\n"
   ]
  },
  {
   "cell_type": "code",
   "execution_count": null,
   "metadata": {},
   "outputs": [],
   "source": [
    "# Exercise 18\n",
    "\n",
    "# No 14 with function\n",
    "\n",
    "def remove_duplicates(input_list):\n",
    "    # Create a set from the list to remove duplicates\n",
    "    unique_elements = set(input_list)\n",
    "\n",
    "    # Convert the set back to a list to preserve the order\n",
    "    unique_list = list(unique_elements)\n",
    "\n",
    "    return unique_list\n",
    "\n",
    "\n",
    "# Example \n",
    "ages = [15, 13, 16, 18, 19, 15, 10]\n",
    "unique_ages = remove_duplicates(ages)\n",
    "\n",
    "print(unique_ages)\n"
   ]
  },
  {
   "cell_type": "code",
   "execution_count": null,
   "metadata": {},
   "outputs": [],
   "source": [
    "# Exercise 19\n",
    "\n",
    "def is_age_present(input_list, age_to_find):\n",
    "    return age_to_find in input_list\n",
    "\n",
    "\n",
    "# Example usage with the given list of ages\n",
    "ages = [15, 13, 16, 18, 19, 15, 10]\n",
    "age_to_find1 = 16\n",
    "age_to_find2 = 20\n",
    "\n",
    "result1 = is_age_present(ages, age_to_find1)\n",
    "result2 = is_age_present(ages, age_to_find2)\n",
    "\n",
    "print(result1)  # Output: True\n",
    "print(result2)  # Output: False\n"
   ]
  },
  {
   "cell_type": "code",
   "execution_count": 98,
   "metadata": {},
   "outputs": [
    {
     "name": "stdout",
     "output_type": "stream",
     "text": [
      "[24, 28, 18, 13, 16, 17, 29, 27, 44, 15]\n"
     ]
    }
   ],
   "source": [
    "# Non-optopnal exercises\n",
    "# Python Workshops\n",
    "# Q1\n",
    "\n",
    "def age_calculator(birth_list):\n",
    "\n",
    "    ages = [2023 - year for year in birth_list]\n",
    "\n",
    "    return ages\n",
    "\n",
    "\n",
    "birth_list = [1999, 1995, 2005, 2010, 2007, 2006, 1994, 1996, 1979, 2008]\n",
    "age_list = age_calculator(birth_list)\n",
    "\n",
    "print(age_list)\n"
   ]
  },
  {
   "cell_type": "code",
   "execution_count": 99,
   "metadata": {},
   "outputs": [
    {
     "name": "stdout",
     "output_type": "stream",
     "text": [
      "[20, 24, 14, 12, 13, 25, 23, 11]\n"
     ]
    }
   ],
   "source": [
    "# Non-optopnal exercises\n",
    "# Python Workshops\n",
    "# Q2\n",
    "\n",
    "def remove_youngest_and_oldest(ages):\n",
    "\n",
    "    youngest_age = ages[0]\n",
    "    oldest_age = ages[0]\n",
    "\n",
    "    for age in ages:\n",
    "        if age < youngest_age:\n",
    "            youngest_age = age\n",
    "        if age > oldest_age:\n",
    "            oldest_age = age\n",
    "\n",
    "    ages.remove(youngest_age)\n",
    "    ages.remove(oldest_age)\n",
    "\n",
    "\n",
    "ages = [20, 24, 14, 9, 12, 13, 25, 23, 40, 11]\n",
    "remove_youngest_and_oldest(ages)\n",
    "\n",
    "print(ages)"
   ]
  },
  {
   "cell_type": "code",
   "execution_count": 100,
   "metadata": {},
   "outputs": [
    {
     "name": "stdout",
     "output_type": "stream",
     "text": [
      "[10, 13, 15, 16, 18, 19]\n"
     ]
    }
   ],
   "source": [
    "# Non-optopnal exercises\n",
    "# Python Workshops\n",
    "# Q3\n",
    "\n",
    "def find_common_ages(list1, list2):\n",
    "    common_ages = list(set(list1) & set(list2))\n",
    "    return common_ages\n",
    "\n",
    "berlin = [15, 13, 16, 18, 19, 10, 12]\n",
    "munich = [7, 13, 15, 20, 19, 18, 10, 16]\n",
    "\n",
    "common_ages = find_common_ages(berlin, munich)\n",
    "print(common_ages)"
   ]
  },
  {
   "cell_type": "code",
   "execution_count": null,
   "metadata": {},
   "outputs": [],
   "source": [
    "# Non-optopnal exercises\n",
    "# Python Workshops\n",
    "# Q4\n",
    "\n",
    "def remove_duplicates(input_list):\n",
    "    unique_elements = set(input_list)\n",
    "\n",
    "    unique_list = list(unique_elements)\n",
    "\n",
    "    return unique_list\n",
    "\n",
    "input_list = [15, 13, 16, 18, 19, 15, 10]\n",
    "unique_ages = remove_duplicates(input_list)\n",
    "\n",
    "print(unique_ages)"
   ]
  },
  {
   "cell_type": "code",
   "execution_count": 101,
   "metadata": {},
   "outputs": [
    {
     "name": "stdout",
     "output_type": "stream",
     "text": [
      "True\n",
      "False\n"
     ]
    }
   ],
   "source": [
    "# Non-optopnal exercises\n",
    "# Python Workshops\n",
    "# Q5\n",
    "\n",
    "def is_age_present(input_list, age_to_find):\n",
    "    return age_to_find in input_list\n",
    "\n",
    "ages = [15, 13, 16, 18, 19, 15, 10]\n",
    "\n",
    "age_to_find1 = 15\n",
    "age_to_find2 = 28\n",
    "\n",
    "result1 = is_age_present(ages, age_to_find1)\n",
    "result2 = is_age_present(ages, age_to_find2)\n",
    "\n",
    "print(result1)  \n",
    "print(result2)  "
   ]
  },
  {
   "cell_type": "code",
   "execution_count": null,
   "metadata": {},
   "outputs": [],
   "source": [
    "#Intermediate Level\n",
    "#Set 1\n",
    "#No 1\n",
    "\n",
    "def find_outlier(arr):\n",
    "    \n",
    "    # count the number of odd and even integers in the array\n",
    "    num_odd = sum(1 for num in arr if num % 2 != 0)\n",
    "    num_even = len(arr) - num_odd\n",
    "\n",
    "    # Determine the majority\n",
    "    majority = 'even' if num_even > num_odd else 'odd'\n",
    "\n",
    "    # Find the outlier N\n",
    "    for num in arr:\n",
    "        if num % 2 == 0 and majority == 'odd':\n",
    "            return num\n",
    "        elif num % 2 != 0 and majority == 'even':\n",
    "            return num\n",
    "\n",
    "# Example\n",
    "array1 = [2, 4, 7, 8, 10] \n",
    "array2 = [3, 5, 6, 12, 14] \n",
    "\n",
    "outlier1 = find_outlier(array1)\n",
    "outlier2 = find_outlier(array2)\n",
    "\n",
    "print(outlier1)  \n",
    "print(outlier2)  \n"
   ]
  },
  {
   "cell_type": "code",
   "execution_count": 102,
   "metadata": {},
   "outputs": [
    {
     "name": "stdout",
     "output_type": "stream",
     "text": [
      "[2]\n",
      "[1]\n"
     ]
    }
   ],
   "source": [
    "#Intermediate Level\n",
    "#Set 1\n",
    "#No 2\n",
    "\n",
    "def array_diff(a, b):\n",
    "\n",
    "    result = [element for element in a if element not in b]\n",
    "    return result\n",
    "\n",
    "# Example\n",
    "print(array_diff([1, 2], [1]))        \n",
    "print(array_diff([1, 2, 2], [2]))"
   ]
  },
  {
   "cell_type": "code",
   "execution_count": 111,
   "metadata": {},
   "outputs": [
    {
     "name": "stdout",
     "output_type": "stream",
     "text": [
      "Bart, Lisa & Maggie\n",
      "Bart & Lisa\n",
      "Bart\n",
      "\n"
     ]
    }
   ],
   "source": [
    "#Intermediate Level\n",
    "#Set 1\n",
    "#No 3\n",
    "\n",
    "def namelist(names):\n",
    "    if not names:\n",
    "        return \"\"\n",
    "\n",
    "    name_list = [name['name'] for name in names]\n",
    "\n",
    "    if len(name_list) == 1:\n",
    "        return name_list[0]\n",
    "\n",
    "    return ', '.join(name_list[:-1]) + f\" & {name_list[-1]}\"\n",
    "\n",
    "\n",
    "print(namelist([{ 'name': 'Bart' }, { 'name': 'Lisa' }, { 'name': 'Maggie' }]))    \n",
    "print(namelist([{ 'name': 'Bart' }, { 'name': 'Lisa' }]))                         \n",
    "print(namelist([{ 'name': 'Bart' }]))                                              \n",
    "print(namelist([]))  \n",
    " "
   ]
  },
  {
   "cell_type": "code",
   "execution_count": 112,
   "metadata": {},
   "outputs": [
    {
     "name": "stdout",
     "output_type": "stream",
     "text": [
      "[1, 2]\n",
      "[1, 0, 15]\n",
      "[1, 2, 123]\n"
     ]
    }
   ],
   "source": [
    "#Intermediate Level\n",
    "#Set 1\n",
    "#No 4\n",
    "\n",
    "def filter_list(input_list):\n",
    "    \n",
    "    filtered_list = [item for item in input_list if not isinstance(item, str)]\n",
    "\n",
    "    return filtered_list\n",
    "\n",
    "# Example\n",
    "print(filter_list([1, 2, 'a', 'b']))         \n",
    "print(filter_list([1, 'a', 'b', 0, 15]))     \n",
    "print(filter_list([1, 2, 'aasf', '1', '123', 123]))  \n"
   ]
  },
  {
   "cell_type": "code",
   "execution_count": 117,
   "metadata": {},
   "outputs": [
    {
     "name": "stdout",
     "output_type": "stream",
     "text": [
      "5\n"
     ]
    }
   ],
   "source": [
    "#Intermediate Level\n",
    "#Set 1\n",
    "#No 5\n",
    "\n",
    "def find_it(arr):\n",
    "    count_dict = {}\n",
    "\n",
    "    for num in arr:\n",
    "        count_dict[num] = count_dict.get(num, 0) + 1\n",
    "\n",
    "    for num, count in count_dict.items():\n",
    "        if count % 2 == 1:\n",
    "            return num\n",
    "\n",
    "result = find_it([20, 1, -1, 2, -2, 3, 3, 5, 5, 1, 2, 4, 20, 4, -1, -2, 5])\n",
    "print(result)  \n",
    "\n",
    "\n",
    "\n",
    "# Another way to do it\n",
    "\n",
    "def find_it (numbers_list):\n",
    "    for i in set(numbers_list):\n",
    "        if numbers_list.count(i) % 2 == 1 :\n",
    "            return i \n",
    "\n",
    "\n",
    "find_it([20,1,-1,2,-2,3,3,5,5,1,2,4,20,4,-1,-2,5])"
   ]
  },
  {
   "cell_type": "code",
   "execution_count": null,
   "metadata": {},
   "outputs": [],
   "source": [
    "#Intermediate Level\n",
    "#Set 1\n",
    "#No 6\n",
    "\n",
    "def XO(string):\n",
    "    # Convert the string to lowercase to make it case insensitive\n",
    "    string = string.lower()\n",
    "\n",
    "    # Count the of 'x' and 'o' in the string\n",
    "    count_x = string.count('x')\n",
    "    count_o = string.count('o')\n",
    "\n",
    "    # Return True if the counts are equal, otherwise return False\n",
    "    return count_x == count_o\n",
    "\n",
    "# Examples\n",
    "print(XO(\"ooxx\"))  \n",
    "print(XO(\"xooxx\"))  \n",
    "print(XO(\"ooxXm\"))  \n",
    "print(XO(\"zpzpzpp\")) \n",
    "print(XO(\"zzoo\"))    \n"
   ]
  },
  {
   "cell_type": "code",
   "execution_count": 108,
   "metadata": {},
   "outputs": [
    {
     "name": "stdout",
     "output_type": "stream",
     "text": [
      "True\n",
      "True\n",
      "False\n",
      "False\n",
      "False\n"
     ]
    }
   ],
   "source": [
    "#Intermediate Level\n",
    "#Set 1\n",
    "#No 7\n",
    "\n",
    "\n",
    "def validate_pin(pin):\n",
    "    # Check if the PIN contains exactly 4 or 6 digits\n",
    "    if len(pin) == 4 or len(pin) == 6:\n",
    "        # Check if all characters in the PIN are digits\n",
    "        if pin.isdigit():\n",
    "            return True\n",
    "    return False\n",
    "\n",
    "# Examples\n",
    "print(validate_pin(\"1234\"))     \n",
    "print(validate_pin(\"123456\"))    \n",
    "print(validate_pin(\"12345\"))    \n",
    "print(validate_pin(\"1234567\"))   \n",
    "print(validate_pin(\"12a4\"))    "
   ]
  },
  {
   "cell_type": "code",
   "execution_count": null,
   "metadata": {},
   "outputs": [],
   "source": [
    "#Intermediate Level\n",
    "#Set 1\n",
    "#No 8\n",
    "\n",
    "def shortest_word_length(words):\n",
    "    # Split the string into individual words\n",
    "    word_list = words.split()\n",
    "\n",
    "    # Find the length of the shortest word\n",
    "    shortest_length = min(len(word) for word in word_list)\n",
    "\n",
    "    return shortest_length\n",
    "\n",
    "# Examples\n",
    "print(shortest_word_length(\"hello world\"))                         \n",
    "print(shortest_word_length(\"Python is awesome\"))                   \n",
    "print(shortest_word_length(\"The quick brown fox jumps over\"))      \n",
    "print(shortest_word_length(\"Let's go outside and play\"))           \n"
   ]
  },
  {
   "cell_type": "code",
   "execution_count": null,
   "metadata": {},
   "outputs": [],
   "source": [
    "#Intermediate Level\n",
    "#Set 1\n",
    "#No 9\n",
    "\n",
    "def find_missing_letter(chars):\n",
    "    # Convert the input list of characters to a list of their ASCII values\n",
    "    ascii_values = [ord(char) for char in chars]\n",
    "\n",
    "    # Find the missing ASCII value \n",
    "    missing_ascii = None\n",
    "    for i in range(len(ascii_values) - 1):\n",
    "        if ascii_values[i] + 1 != ascii_values[i + 1]:\n",
    "            missing_ascii = ascii_values[i] + 1\n",
    "            break\n",
    "\n",
    "    # Convert the missing ASCII value to its corresponding character\n",
    "    missing_letter = chr(missing_ascii)\n",
    "\n",
    "    return missing_letter\n",
    "\n",
    "# Examples\n",
    "print(find_missing_letter(['a', 'b', 'c', 'd', 'f']))  \n",
    "print(find_missing_letter(['O', 'Q', 'R', 'S']))      \n",
    "\n"
   ]
  },
  {
   "cell_type": "code",
   "execution_count": null,
   "metadata": {},
   "outputs": [],
   "source": [
    "#Intermediate Level\n",
    "#Set 1\n",
    "#No 10\n",
    "\n",
    "def filter_friends(names):\n",
    "    # Use list comprehension to filter out names with 4 letters\n",
    "    friends_names = [name for name in names if len(name) == 4]\n",
    "\n",
    "    return friends_names\n",
    "\n",
    "# Example\n",
    "input_names = [\"Ryan\", \"Kieran\", \"Jason\", \"Yous\"]\n",
    "output_names = filter_friends(input_names)\n",
    "print(output_names)  \n"
   ]
  },
  {
   "cell_type": "code",
   "execution_count": null,
   "metadata": {},
   "outputs": [],
   "source": [
    "#Intermediate Level\n",
    "#Set 2\n",
    "#No 1\n",
    "\n",
    "\n",
    "def ordered_count(input_string):\n",
    "    char_count = {}\n",
    "    ordered_list = []\n",
    "    \n",
    "    for char in input_string:\n",
    "        if char in char_count:\n",
    "            char_count[char] += 1\n",
    "        else:\n",
    "            char_count[char] = 1\n",
    "    \n",
    "    for char, count in char_count.items():\n",
    "        ordered_list.append((char, count))\n",
    "    \n",
    "    return ordered_list\n",
    "\n",
    "# Example\n",
    "result = ordered_count(\"abracadabra\")\n",
    "print(result) \n"
   ]
  },
  {
   "cell_type": "code",
   "execution_count": null,
   "metadata": {},
   "outputs": [],
   "source": [
    "#Intermediate Level\n",
    "#Set 2\n",
    "#No 2\n",
    "\n",
    "def is_narcissistic_number(number):\n",
    "    # Convert the number to a string to get the individual digits\n",
    "    digits = str(number)\n",
    "    num_digits = len(digits)\n",
    "    narcissistic_sum = sum(int(digit) ** num_digits for digit in digits)\n",
    "    \n",
    "    return narcissistic_sum == number\n",
    "\n",
    "# Examples\n",
    "print(is_narcissistic_number(153))  \n",
    "print(is_narcissistic_number(1634)) \n",
    "print(is_narcissistic_number(370))  \n",
    "print(is_narcissistic_number(9474))  \n",
    "print(is_narcissistic_number(123))  \n"
   ]
  },
  {
   "cell_type": "code",
   "execution_count": null,
   "metadata": {},
   "outputs": [],
   "source": [
    "#Intermediate Level\n",
    "#Set 2\n",
    "#No 3\n",
    "\n",
    "import string\n",
    "\n",
    "def is_pangram(sentence):\n",
    "    alphabet = set(string.ascii_lowercase)\n",
    "    sentence = sentence.lower()\n",
    "    letters = set(filter(str.isalpha, sentence))\n",
    "    \n",
    "    return letters >= alphabet\n",
    "\n",
    "# Examples\n",
    "print(is_pangram(\"The quick brown fox jumps over the lazy dog\"))  \n",
    "print(is_pangram(\"Pack my box with five dozen liquor jugs\"))      \n",
    "print(is_pangram(\"Hello, World!\"))                               \n"
   ]
  }
 ],
 "metadata": {
  "kernelspec": {
   "display_name": "Python 3",
   "language": "python",
   "name": "python3"
  },
  "language_info": {
   "codemirror_mode": {
    "name": "ipython",
    "version": 3
   },
   "file_extension": ".py",
   "mimetype": "text/x-python",
   "name": "python",
   "nbconvert_exporter": "python",
   "pygments_lexer": "ipython3",
   "version": "3.11.4"
  },
  "orig_nbformat": 4
 },
 "nbformat": 4,
 "nbformat_minor": 2
}
